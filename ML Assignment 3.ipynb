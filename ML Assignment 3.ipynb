{
 "cells": [
  {
   "cell_type": "code",
   "execution_count": 30,
   "metadata": {},
   "outputs": [],
   "source": [
    "from sklearn.neural_network import MLPClassifier\n",
    "from sklearn.model_selection import train_test_split\n",
    "from sklearn.metrics import confusion_matrix\n",
    "from sklearn.metrics import accuracy_score\n",
    "from sklearn.metrics import classification_report\n",
    "import pandas as pd"
   ]
  },
  {
   "cell_type": "code",
   "execution_count": 58,
   "metadata": {},
   "outputs": [
    {
     "name": "stdout",
     "output_type": "stream",
     "text": [
      "Confusion Matrix : [[54  0]\n",
      " [21  0]]\n",
      "Accuracy Score is 0.72\n",
      "Classification Report : \n",
      "              precision    recall  f1-score   support\n",
      "\n",
      "           0       0.72      1.00      0.84        54\n",
      "           1       1.00      0.00      0.00        21\n",
      "\n",
      "    accuracy                           0.72        75\n",
      "   macro avg       0.86      0.50      0.42        75\n",
      "weighted avg       0.80      0.72      0.60        75\n",
      "\n"
     ]
    }
   ],
   "source": [
    "Ds = pd.read_excel ('Book1.xlsx')\n",
    "X=Ds.iloc[:,[0,1,2,3,4,5,6,7,8,9,10,11]].values\n",
    "y=Ds.iloc[:,12].values\n",
    "X_train, X_test, y_train, y_test = train_test_split(X, y)\n",
    "clf = MLPClassifier(hidden_layer_sizes=(10,50,10),max_iter=750).fit(X_train, y_train)\n",
    "clf.predict_proba(X_test[:1])\n",
    "predicted = clf.predict(X_test[:,:])\n",
    "clf.score(X_test, y_test)\n",
    "results = confusion_matrix(y_test,predicted)\n",
    "print ('Confusion Matrix :',results)\n",
    "print ('Accuracy Score is',accuracy_score(y_test,predicted))\n",
    "print ('Classification Report : ')\n",
    "print (classification_report(y_test,predicted,zero_division=1))\n"
   ]
  },
  {
   "cell_type": "code",
   "execution_count": null,
   "metadata": {},
   "outputs": [],
   "source": []
  },
  {
   "cell_type": "code",
   "execution_count": null,
   "metadata": {},
   "outputs": [],
   "source": []
  },
  {
   "cell_type": "code",
   "execution_count": null,
   "metadata": {},
   "outputs": [],
   "source": []
  }
 ],
 "metadata": {
  "kernelspec": {
   "display_name": "Python 3",
   "language": "python",
   "name": "python3"
  },
  "language_info": {
   "codemirror_mode": {
    "name": "ipython",
    "version": 3
   },
   "file_extension": ".py",
   "mimetype": "text/x-python",
   "name": "python",
   "nbconvert_exporter": "python",
   "pygments_lexer": "ipython3",
   "version": "3.7.4"
  }
 },
 "nbformat": 4,
 "nbformat_minor": 4
}
